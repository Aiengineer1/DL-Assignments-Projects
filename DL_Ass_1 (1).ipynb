{
  "cells": [
    {
      "cell_type": "markdown",
      "metadata": {
        "id": "HHvcmHJkq3-x"
      },
      "source": [
        "Impport Libraries"
      ]
    },
    {
      "cell_type": "code",
      "execution_count": 50,
      "metadata": {
        "id": "mODX1zgqqy8A"
      },
      "outputs": [],
      "source": [
        "import pandas as pd\n",
        "import numpy as np\n",
        "from sklearn.preprocessing import StandardScaler\n",
        "from sklearn.model_selection import train_test_split\n",
        "from scipy.stats import zscore\n",
        "from sklearn.preprocessing import MinMaxScaler\n",
        "import matplotlib.pyplot as plt\n"
      ]
    },
    {
      "cell_type": "markdown",
      "metadata": {
        "id": "XElozsA2rwrK"
      },
      "source": [
        "Read File"
      ]
    },
    {
      "cell_type": "code",
      "execution_count": 39,
      "metadata": {
        "id": "94-t6_glrOEn"
      },
      "outputs": [],
      "source": [
        "df=pd.read_csv('/content/WineQT.csv')"
      ]
    },
    {
      "cell_type": "markdown",
      "metadata": {
        "id": "oskrFLser0sb"
      },
      "source": [
        "Handling Missing Values:\n"
      ]
    },
    {
      "cell_type": "code",
      "execution_count": 40,
      "metadata": {
        "colab": {
          "base_uri": "https://localhost:8080/"
        },
        "id": "Jinh0Ri0rTkN",
        "outputId": "1cea5b47-ccaa-43b0-9063-edbb8e554ac1"
      },
      "outputs": [
        {
          "name": "stdout",
          "output_type": "stream",
          "text": [
            "fixed acidity           0\n",
            "volatile acidity        0\n",
            "citric acid             0\n",
            "residual sugar          0\n",
            "chlorides               0\n",
            "free sulfur dioxide     0\n",
            "total sulfur dioxide    0\n",
            "density                 0\n",
            "pH                      0\n",
            "sulphates               0\n",
            "alcohol                 0\n",
            "quality                 0\n",
            "Id                      0\n",
            "dtype: int64\n"
          ]
        }
      ],
      "source": [
        "print(df.isnull().sum())\n",
        "df.fillna(df.mean(), inplace=True)"
      ]
    },
    {
      "cell_type": "markdown",
      "metadata": {
        "id": "Mq0Hye73r5zf"
      },
      "source": [
        "Feature Scaling (Standardization):\n"
      ]
    },
    {
      "cell_type": "code",
      "execution_count": 41,
      "metadata": {
        "id": "iM8szgxFs5u5"
      },
      "outputs": [],
      "source": [
        "scaler = StandardScaler()\n",
        "df[['fixed acidity', 'volatile acidity', 'citric acid', 'residual sugar', 'chlorides', 'free sulfur dioxide', 'total sulfur dioxide', 'density', 'pH', 'sulphates', 'alcohol']] = scaler.fit_transform(df[['fixed acidity', 'volatile acidity', 'citric acid', 'residual sugar', 'chlorides', 'free sulfur dioxide', 'total sulfur dioxide', 'density', 'pH', 'sulphates', 'alcohol']])\n"
      ]
    },
    {
      "cell_type": "markdown",
      "metadata": {
        "id": "yedO4wXutOoh"
      },
      "source": [
        "Remove Outliers"
      ]
    },
    {
      "cell_type": "code",
      "execution_count": 42,
      "metadata": {
        "id": "ofmfWiCQtReK"
      },
      "outputs": [],
      "source": [
        "numerical_columns = ['fixed acidity', 'volatile acidity', 'citric acid', 'residual sugar', 'chlorides', 'free sulfur dioxide', 'total sulfur dioxide', 'density', 'pH', 'sulphates', 'alcohol']\n",
        "z_scores = zscore(df[numerical_columns])\n",
        "outliers = (abs(z_scores) > 3).all(axis=1)\n",
        "df = df[~outliers]\n"
      ]
    },
    {
      "cell_type": "markdown",
      "metadata": {
        "id": "QGGOV2f1tiEo"
      },
      "source": [
        "Normalization"
      ]
    },
    {
      "cell_type": "code",
      "execution_count": 43,
      "metadata": {
        "id": "z5sJzcC_timT"
      },
      "outputs": [],
      "source": [
        "numerical_columns = ['fixed acidity', 'volatile acidity', 'citric acid', 'residual sugar', 'chlorides', 'free sulfur dioxide', 'total sulfur dioxide', 'density', 'pH', 'sulphates', 'alcohol']\n",
        "scaler = MinMaxScaler()\n",
        "df[numerical_columns] = scaler.fit_transform(df[numerical_columns])\n"
      ]
    },
    {
      "cell_type": "markdown",
      "metadata": {
        "id": "H4Lxxq_QtIt9"
      },
      "source": [
        "Splitting the Data into Training and Testing Sets:\n"
      ]
    },
    {
      "cell_type": "code",
      "execution_count": 44,
      "metadata": {
        "id": "cZPc-q4xtDnr"
      },
      "outputs": [],
      "source": [
        "x = df.drop(['quality', 'Id'], axis=1)\n",
        "y = df['quality']\n",
        "X_train, X_test, y_train, y_test = train_test_split(X, y, test_size=0.2, random_state=42)\n"
      ]
    },
    {
      "cell_type": "code",
      "execution_count": 17,
      "metadata": {
        "colab": {
          "base_uri": "https://localhost:8080/",
          "height": 423
        },
        "id": "izETPgsTvkeM",
        "outputId": "44fab5a2-55b3-4e1c-a9ca-69dfa135b25f"
      },
      "outputs": [
        {
          "data": {
            "text/html": [
              "\n",
              "  <div id=\"df-010ae69a-d009-491c-af05-87fca5c26331\" class=\"colab-df-container\">\n",
              "    <div>\n",
              "<style scoped>\n",
              "    .dataframe tbody tr th:only-of-type {\n",
              "        vertical-align: middle;\n",
              "    }\n",
              "\n",
              "    .dataframe tbody tr th {\n",
              "        vertical-align: top;\n",
              "    }\n",
              "\n",
              "    .dataframe thead th {\n",
              "        text-align: right;\n",
              "    }\n",
              "</style>\n",
              "<table border=\"1\" class=\"dataframe\">\n",
              "  <thead>\n",
              "    <tr style=\"text-align: right;\">\n",
              "      <th></th>\n",
              "      <th>fixed acidity</th>\n",
              "      <th>volatile acidity</th>\n",
              "      <th>citric acid</th>\n",
              "      <th>residual sugar</th>\n",
              "      <th>chlorides</th>\n",
              "      <th>free sulfur dioxide</th>\n",
              "      <th>total sulfur dioxide</th>\n",
              "      <th>density</th>\n",
              "      <th>pH</th>\n",
              "      <th>sulphates</th>\n",
              "      <th>alcohol</th>\n",
              "    </tr>\n",
              "  </thead>\n",
              "  <tbody>\n",
              "    <tr>\n",
              "      <th>12</th>\n",
              "      <td>0.108132</td>\n",
              "      <td>-1.399789</td>\n",
              "      <td>1.483400</td>\n",
              "      <td>-0.540205</td>\n",
              "      <td>0.107253</td>\n",
              "      <td>1.891910</td>\n",
              "      <td>1.742116</td>\n",
              "      <td>0.088134</td>\n",
              "      <td>-0.070340</td>\n",
              "      <td>0.541862</td>\n",
              "      <td>0.053515</td>\n",
              "    </tr>\n",
              "    <tr>\n",
              "      <th>758</th>\n",
              "      <td>0.909584</td>\n",
              "      <td>-1.177016</td>\n",
              "      <td>1.483400</td>\n",
              "      <td>-0.392638</td>\n",
              "      <td>-0.294891</td>\n",
              "      <td>-1.231259</td>\n",
              "      <td>-1.157072</td>\n",
              "      <td>-0.722583</td>\n",
              "      <td>-1.028222</td>\n",
              "      <td>0.424439</td>\n",
              "      <td>0.885522</td>\n",
              "    </tr>\n",
              "    <tr>\n",
              "      <th>636</th>\n",
              "      <td>0.337119</td>\n",
              "      <td>-1.232709</td>\n",
              "      <td>0.466104</td>\n",
              "      <td>0.050060</td>\n",
              "      <td>-0.654705</td>\n",
              "      <td>-0.548066</td>\n",
              "      <td>-0.211021</td>\n",
              "      <td>-0.577069</td>\n",
              "      <td>0.568248</td>\n",
              "      <td>0.189593</td>\n",
              "      <td>1.255303</td>\n",
              "    </tr>\n",
              "    <tr>\n",
              "      <th>1109</th>\n",
              "      <td>-0.979552</td>\n",
              "      <td>1.941813</td>\n",
              "      <td>-1.161568</td>\n",
              "      <td>-0.245072</td>\n",
              "      <td>-0.443050</td>\n",
              "      <td>-0.352868</td>\n",
              "      <td>-0.790859</td>\n",
              "      <td>-0.192499</td>\n",
              "      <td>1.398413</td>\n",
              "      <td>-0.573658</td>\n",
              "      <td>-0.501156</td>\n",
              "    </tr>\n",
              "    <tr>\n",
              "      <th>743</th>\n",
              "      <td>-0.407087</td>\n",
              "      <td>-0.620082</td>\n",
              "      <td>-0.093408</td>\n",
              "      <td>1.009240</td>\n",
              "      <td>0.361240</td>\n",
              "      <td>1.208717</td>\n",
              "      <td>1.345385</td>\n",
              "      <td>0.576642</td>\n",
              "      <td>-1.028222</td>\n",
              "      <td>-0.514946</td>\n",
              "      <td>-1.240717</td>\n",
              "    </tr>\n",
              "    <tr>\n",
              "      <th>...</th>\n",
              "      <td>...</td>\n",
              "      <td>...</td>\n",
              "      <td>...</td>\n",
              "      <td>...</td>\n",
              "      <td>...</td>\n",
              "      <td>...</td>\n",
              "      <td>...</td>\n",
              "      <td>...</td>\n",
              "      <td>...</td>\n",
              "      <td>...</td>\n",
              "      <td>...</td>\n",
              "    </tr>\n",
              "    <tr>\n",
              "      <th>1044</th>\n",
              "      <td>-0.922305</td>\n",
              "      <td>2.832907</td>\n",
              "      <td>-0.958109</td>\n",
              "      <td>-0.171289</td>\n",
              "      <td>-0.421885</td>\n",
              "      <td>0.330325</td>\n",
              "      <td>-0.424646</td>\n",
              "      <td>-0.130136</td>\n",
              "      <td>1.334554</td>\n",
              "      <td>-0.514946</td>\n",
              "      <td>0.515741</td>\n",
              "    </tr>\n",
              "    <tr>\n",
              "      <th>1095</th>\n",
              "      <td>-0.178100</td>\n",
              "      <td>-0.787162</td>\n",
              "      <td>0.160916</td>\n",
              "      <td>-0.466421</td>\n",
              "      <td>-0.273726</td>\n",
              "      <td>1.599113</td>\n",
              "      <td>1.162279</td>\n",
              "      <td>0.228450</td>\n",
              "      <td>0.504389</td>\n",
              "      <td>-0.280100</td>\n",
              "      <td>-1.333163</td>\n",
              "    </tr>\n",
              "    <tr>\n",
              "      <th>1130</th>\n",
              "      <td>-0.521580</td>\n",
              "      <td>-1.009936</td>\n",
              "      <td>0.313510</td>\n",
              "      <td>-0.097506</td>\n",
              "      <td>-0.400719</td>\n",
              "      <td>-0.645665</td>\n",
              "      <td>-0.607752</td>\n",
              "      <td>-1.055184</td>\n",
              "      <td>0.312813</td>\n",
              "      <td>-0.338812</td>\n",
              "      <td>1.347748</td>\n",
              "    </tr>\n",
              "    <tr>\n",
              "      <th>860</th>\n",
              "      <td>-0.235347</td>\n",
              "      <td>0.215318</td>\n",
              "      <td>0.211781</td>\n",
              "      <td>-0.392638</td>\n",
              "      <td>-0.167898</td>\n",
              "      <td>-0.548066</td>\n",
              "      <td>1.009690</td>\n",
              "      <td>0.020574</td>\n",
              "      <td>-0.134198</td>\n",
              "      <td>0.189593</td>\n",
              "      <td>-0.870937</td>\n",
              "    </tr>\n",
              "    <tr>\n",
              "      <th>1126</th>\n",
              "      <td>-0.464333</td>\n",
              "      <td>-0.063148</td>\n",
              "      <td>0.669563</td>\n",
              "      <td>-0.245072</td>\n",
              "      <td>-0.570043</td>\n",
              "      <td>-0.352868</td>\n",
              "      <td>-0.790859</td>\n",
              "      <td>-1.034396</td>\n",
              "      <td>-0.325775</td>\n",
              "      <td>-0.103965</td>\n",
              "      <td>1.255303</td>\n",
              "    </tr>\n",
              "  </tbody>\n",
              "</table>\n",
              "<p>914 rows × 11 columns</p>\n",
              "</div>\n",
              "    <div class=\"colab-df-buttons\">\n",
              "\n",
              "  <div class=\"colab-df-container\">\n",
              "    <button class=\"colab-df-convert\" onclick=\"convertToInteractive('df-010ae69a-d009-491c-af05-87fca5c26331')\"\n",
              "            title=\"Convert this dataframe to an interactive table.\"\n",
              "            style=\"display:none;\">\n",
              "\n",
              "  <svg xmlns=\"http://www.w3.org/2000/svg\" height=\"24px\" viewBox=\"0 -960 960 960\">\n",
              "    <path d=\"M120-120v-720h720v720H120Zm60-500h600v-160H180v160Zm220 220h160v-160H400v160Zm0 220h160v-160H400v160ZM180-400h160v-160H180v160Zm440 0h160v-160H620v160ZM180-180h160v-160H180v160Zm440 0h160v-160H620v160Z\"/>\n",
              "  </svg>\n",
              "    </button>\n",
              "\n",
              "  <style>\n",
              "    .colab-df-container {\n",
              "      display:flex;\n",
              "      gap: 12px;\n",
              "    }\n",
              "\n",
              "    .colab-df-convert {\n",
              "      background-color: #E8F0FE;\n",
              "      border: none;\n",
              "      border-radius: 50%;\n",
              "      cursor: pointer;\n",
              "      display: none;\n",
              "      fill: #1967D2;\n",
              "      height: 32px;\n",
              "      padding: 0 0 0 0;\n",
              "      width: 32px;\n",
              "    }\n",
              "\n",
              "    .colab-df-convert:hover {\n",
              "      background-color: #E2EBFA;\n",
              "      box-shadow: 0px 1px 2px rgba(60, 64, 67, 0.3), 0px 1px 3px 1px rgba(60, 64, 67, 0.15);\n",
              "      fill: #174EA6;\n",
              "    }\n",
              "\n",
              "    .colab-df-buttons div {\n",
              "      margin-bottom: 4px;\n",
              "    }\n",
              "\n",
              "    [theme=dark] .colab-df-convert {\n",
              "      background-color: #3B4455;\n",
              "      fill: #D2E3FC;\n",
              "    }\n",
              "\n",
              "    [theme=dark] .colab-df-convert:hover {\n",
              "      background-color: #434B5C;\n",
              "      box-shadow: 0px 1px 3px 1px rgba(0, 0, 0, 0.15);\n",
              "      filter: drop-shadow(0px 1px 2px rgba(0, 0, 0, 0.3));\n",
              "      fill: #FFFFFF;\n",
              "    }\n",
              "  </style>\n",
              "\n",
              "    <script>\n",
              "      const buttonEl =\n",
              "        document.querySelector('#df-010ae69a-d009-491c-af05-87fca5c26331 button.colab-df-convert');\n",
              "      buttonEl.style.display =\n",
              "        google.colab.kernel.accessAllowed ? 'block' : 'none';\n",
              "\n",
              "      async function convertToInteractive(key) {\n",
              "        const element = document.querySelector('#df-010ae69a-d009-491c-af05-87fca5c26331');\n",
              "        const dataTable =\n",
              "          await google.colab.kernel.invokeFunction('convertToInteractive',\n",
              "                                                    [key], {});\n",
              "        if (!dataTable) return;\n",
              "\n",
              "        const docLinkHtml = 'Like what you see? Visit the ' +\n",
              "          '<a target=\"_blank\" href=https://colab.research.google.com/notebooks/data_table.ipynb>data table notebook</a>'\n",
              "          + ' to learn more about interactive tables.';\n",
              "        element.innerHTML = '';\n",
              "        dataTable['output_type'] = 'display_data';\n",
              "        await google.colab.output.renderOutput(dataTable, element);\n",
              "        const docLink = document.createElement('div');\n",
              "        docLink.innerHTML = docLinkHtml;\n",
              "        element.appendChild(docLink);\n",
              "      }\n",
              "    </script>\n",
              "  </div>\n",
              "\n",
              "\n",
              "<div id=\"df-adeb05e1-2359-4764-b6c7-aea51e43d952\">\n",
              "  <button class=\"colab-df-quickchart\" onclick=\"quickchart('df-adeb05e1-2359-4764-b6c7-aea51e43d952')\"\n",
              "            title=\"Suggest charts\"\n",
              "            style=\"display:none;\">\n",
              "\n",
              "<svg xmlns=\"http://www.w3.org/2000/svg\" height=\"24px\"viewBox=\"0 0 24 24\"\n",
              "     width=\"24px\">\n",
              "    <g>\n",
              "        <path d=\"M19 3H5c-1.1 0-2 .9-2 2v14c0 1.1.9 2 2 2h14c1.1 0 2-.9 2-2V5c0-1.1-.9-2-2-2zM9 17H7v-7h2v7zm4 0h-2V7h2v10zm4 0h-2v-4h2v4z\"/>\n",
              "    </g>\n",
              "</svg>\n",
              "  </button>\n",
              "\n",
              "<style>\n",
              "  .colab-df-quickchart {\n",
              "      --bg-color: #E8F0FE;\n",
              "      --fill-color: #1967D2;\n",
              "      --hover-bg-color: #E2EBFA;\n",
              "      --hover-fill-color: #174EA6;\n",
              "      --disabled-fill-color: #AAA;\n",
              "      --disabled-bg-color: #DDD;\n",
              "  }\n",
              "\n",
              "  [theme=dark] .colab-df-quickchart {\n",
              "      --bg-color: #3B4455;\n",
              "      --fill-color: #D2E3FC;\n",
              "      --hover-bg-color: #434B5C;\n",
              "      --hover-fill-color: #FFFFFF;\n",
              "      --disabled-bg-color: #3B4455;\n",
              "      --disabled-fill-color: #666;\n",
              "  }\n",
              "\n",
              "  .colab-df-quickchart {\n",
              "    background-color: var(--bg-color);\n",
              "    border: none;\n",
              "    border-radius: 50%;\n",
              "    cursor: pointer;\n",
              "    display: none;\n",
              "    fill: var(--fill-color);\n",
              "    height: 32px;\n",
              "    padding: 0;\n",
              "    width: 32px;\n",
              "  }\n",
              "\n",
              "  .colab-df-quickchart:hover {\n",
              "    background-color: var(--hover-bg-color);\n",
              "    box-shadow: 0 1px 2px rgba(60, 64, 67, 0.3), 0 1px 3px 1px rgba(60, 64, 67, 0.15);\n",
              "    fill: var(--button-hover-fill-color);\n",
              "  }\n",
              "\n",
              "  .colab-df-quickchart-complete:disabled,\n",
              "  .colab-df-quickchart-complete:disabled:hover {\n",
              "    background-color: var(--disabled-bg-color);\n",
              "    fill: var(--disabled-fill-color);\n",
              "    box-shadow: none;\n",
              "  }\n",
              "\n",
              "  .colab-df-spinner {\n",
              "    border: 2px solid var(--fill-color);\n",
              "    border-color: transparent;\n",
              "    border-bottom-color: var(--fill-color);\n",
              "    animation:\n",
              "      spin 1s steps(1) infinite;\n",
              "  }\n",
              "\n",
              "  @keyframes spin {\n",
              "    0% {\n",
              "      border-color: transparent;\n",
              "      border-bottom-color: var(--fill-color);\n",
              "      border-left-color: var(--fill-color);\n",
              "    }\n",
              "    20% {\n",
              "      border-color: transparent;\n",
              "      border-left-color: var(--fill-color);\n",
              "      border-top-color: var(--fill-color);\n",
              "    }\n",
              "    30% {\n",
              "      border-color: transparent;\n",
              "      border-left-color: var(--fill-color);\n",
              "      border-top-color: var(--fill-color);\n",
              "      border-right-color: var(--fill-color);\n",
              "    }\n",
              "    40% {\n",
              "      border-color: transparent;\n",
              "      border-right-color: var(--fill-color);\n",
              "      border-top-color: var(--fill-color);\n",
              "    }\n",
              "    60% {\n",
              "      border-color: transparent;\n",
              "      border-right-color: var(--fill-color);\n",
              "    }\n",
              "    80% {\n",
              "      border-color: transparent;\n",
              "      border-right-color: var(--fill-color);\n",
              "      border-bottom-color: var(--fill-color);\n",
              "    }\n",
              "    90% {\n",
              "      border-color: transparent;\n",
              "      border-bottom-color: var(--fill-color);\n",
              "    }\n",
              "  }\n",
              "</style>\n",
              "\n",
              "  <script>\n",
              "    async function quickchart(key) {\n",
              "      const quickchartButtonEl =\n",
              "        document.querySelector('#' + key + ' button');\n",
              "      quickchartButtonEl.disabled = true;  // To prevent multiple clicks.\n",
              "      quickchartButtonEl.classList.add('colab-df-spinner');\n",
              "      try {\n",
              "        const charts = await google.colab.kernel.invokeFunction(\n",
              "            'suggestCharts', [key], {});\n",
              "      } catch (error) {\n",
              "        console.error('Error during call to suggestCharts:', error);\n",
              "      }\n",
              "      quickchartButtonEl.classList.remove('colab-df-spinner');\n",
              "      quickchartButtonEl.classList.add('colab-df-quickchart-complete');\n",
              "    }\n",
              "    (() => {\n",
              "      let quickchartButtonEl =\n",
              "        document.querySelector('#df-adeb05e1-2359-4764-b6c7-aea51e43d952 button');\n",
              "      quickchartButtonEl.style.display =\n",
              "        google.colab.kernel.accessAllowed ? 'block' : 'none';\n",
              "    })();\n",
              "  </script>\n",
              "</div>\n",
              "    </div>\n",
              "  </div>\n"
            ],
            "text/plain": [
              "      fixed acidity  volatile acidity  citric acid  residual sugar  chlorides  \\\n",
              "12         0.108132         -1.399789     1.483400       -0.540205   0.107253   \n",
              "758        0.909584         -1.177016     1.483400       -0.392638  -0.294891   \n",
              "636        0.337119         -1.232709     0.466104        0.050060  -0.654705   \n",
              "1109      -0.979552          1.941813    -1.161568       -0.245072  -0.443050   \n",
              "743       -0.407087         -0.620082    -0.093408        1.009240   0.361240   \n",
              "...             ...               ...          ...             ...        ...   \n",
              "1044      -0.922305          2.832907    -0.958109       -0.171289  -0.421885   \n",
              "1095      -0.178100         -0.787162     0.160916       -0.466421  -0.273726   \n",
              "1130      -0.521580         -1.009936     0.313510       -0.097506  -0.400719   \n",
              "860       -0.235347          0.215318     0.211781       -0.392638  -0.167898   \n",
              "1126      -0.464333         -0.063148     0.669563       -0.245072  -0.570043   \n",
              "\n",
              "      free sulfur dioxide  total sulfur dioxide   density        pH  \\\n",
              "12               1.891910              1.742116  0.088134 -0.070340   \n",
              "758             -1.231259             -1.157072 -0.722583 -1.028222   \n",
              "636             -0.548066             -0.211021 -0.577069  0.568248   \n",
              "1109            -0.352868             -0.790859 -0.192499  1.398413   \n",
              "743              1.208717              1.345385  0.576642 -1.028222   \n",
              "...                   ...                   ...       ...       ...   \n",
              "1044             0.330325             -0.424646 -0.130136  1.334554   \n",
              "1095             1.599113              1.162279  0.228450  0.504389   \n",
              "1130            -0.645665             -0.607752 -1.055184  0.312813   \n",
              "860             -0.548066              1.009690  0.020574 -0.134198   \n",
              "1126            -0.352868             -0.790859 -1.034396 -0.325775   \n",
              "\n",
              "      sulphates   alcohol  \n",
              "12     0.541862  0.053515  \n",
              "758    0.424439  0.885522  \n",
              "636    0.189593  1.255303  \n",
              "1109  -0.573658 -0.501156  \n",
              "743   -0.514946 -1.240717  \n",
              "...         ...       ...  \n",
              "1044  -0.514946  0.515741  \n",
              "1095  -0.280100 -1.333163  \n",
              "1130  -0.338812  1.347748  \n",
              "860    0.189593 -0.870937  \n",
              "1126  -0.103965  1.255303  \n",
              "\n",
              "[914 rows x 11 columns]"
            ]
          },
          "execution_count": 17,
          "metadata": {},
          "output_type": "execute_result"
        }
      ],
      "source": [
        "X_train"
      ]
    },
    {
      "cell_type": "code",
      "execution_count": null,
      "metadata": {
        "colab": {
          "base_uri": "https://localhost:8080/"
        },
        "id": "mdw5Si-mvmtS",
        "outputId": "5a065cde-6dc2-444d-dc47-c9bdb3c6cead"
      },
      "outputs": [],
      "source": [
        "np.shape(X_train)\n"
      ]
    },
    {
      "cell_type": "code",
      "execution_count": null,
      "metadata": {
        "colab": {
          "base_uri": "https://localhost:8080/"
        },
        "id": "6SqbUVJzxCMf",
        "outputId": "9f8d47c2-c8d9-49b9-b9e1-a7aad5552ebb"
      },
      "outputs": [],
      "source": [
        "np.shape(y_train)\n"
      ]
    },
    {
      "cell_type": "markdown",
      "metadata": {
        "id": "-bxGl-hjth6w"
      },
      "source": [
        "ANN"
      ]
    },
    {
      "cell_type": "code",
      "execution_count": 84,
      "metadata": {
        "id": "6oBuOm2QuuyH"
      },
      "outputs": [],
      "source": [
        "# important libraries\n",
        "import keras\n",
        "from keras.models import Sequential\n",
        "from keras.layers import Dense\n",
        "from sklearn.metrics import confusion_matrix\n",
        "from sklearn.metrics import precision_score, recall_score, accuracy_score, f1_score\n"
      ]
    },
    {
      "cell_type": "code",
      "execution_count": 47,
      "metadata": {
        "colab": {
          "base_uri": "https://localhost:8080/"
        },
        "id": "hRpTeXWuvBW0",
        "outputId": "19ac6433-02be-4af0-f9ef-b39511e4cbed"
      },
      "outputs": [
        {
          "name": "stdout",
          "output_type": "stream",
          "text": [
            "Epoch 1/100\n",
            "92/92 [==============================] - 2s 5ms/step - loss: 3.8387 - accuracy: 0.0000e+00 - val_loss: 2.3998 - val_accuracy: 0.0000e+00\n",
            "Epoch 2/100\n",
            "92/92 [==============================] - 0s 3ms/step - loss: 0.8622 - accuracy: 0.0000e+00 - val_loss: -0.5917 - val_accuracy: 0.0000e+00\n",
            "Epoch 3/100\n",
            "92/92 [==============================] - 0s 3ms/step - loss: -3.2327 - accuracy: 0.0000e+00 - val_loss: -7.0102 - val_accuracy: 0.0000e+00\n",
            "Epoch 4/100\n",
            "92/92 [==============================] - 0s 3ms/step - loss: -11.5950 - accuracy: 0.0000e+00 - val_loss: -18.8315 - val_accuracy: 0.0000e+00\n",
            "Epoch 5/100\n",
            "92/92 [==============================] - 0s 3ms/step - loss: -27.2478 - accuracy: 0.0000e+00 - val_loss: -41.4787 - val_accuracy: 0.0000e+00\n",
            "Epoch 6/100\n",
            "92/92 [==============================] - 0s 3ms/step - loss: -55.0391 - accuracy: 0.0000e+00 - val_loss: -79.2383 - val_accuracy: 0.0000e+00\n",
            "Epoch 7/100\n",
            "92/92 [==============================] - 0s 3ms/step - loss: -98.9491 - accuracy: 0.0000e+00 - val_loss: -135.9063 - val_accuracy: 0.0000e+00\n",
            "Epoch 8/100\n",
            "92/92 [==============================] - 0s 3ms/step - loss: -162.9809 - accuracy: 0.0000e+00 - val_loss: -217.0625 - val_accuracy: 0.0000e+00\n",
            "Epoch 9/100\n",
            "92/92 [==============================] - 0s 3ms/step - loss: -252.7348 - accuracy: 0.0000e+00 - val_loss: -331.1111 - val_accuracy: 0.0000e+00\n",
            "Epoch 10/100\n",
            "92/92 [==============================] - 0s 3ms/step - loss: -382.0772 - accuracy: 0.0000e+00 - val_loss: -493.9390 - val_accuracy: 0.0000e+00\n",
            "Epoch 11/100\n",
            "92/92 [==============================] - 0s 3ms/step - loss: -555.4730 - accuracy: 0.0000e+00 - val_loss: -700.1683 - val_accuracy: 0.0000e+00\n",
            "Epoch 12/100\n",
            "92/92 [==============================] - 0s 3ms/step - loss: -771.5994 - accuracy: 0.0000e+00 - val_loss: -955.0119 - val_accuracy: 0.0000e+00\n",
            "Epoch 13/100\n",
            "92/92 [==============================] - 0s 3ms/step - loss: -1032.5452 - accuracy: 0.0000e+00 - val_loss: -1259.9548 - val_accuracy: 0.0000e+00\n",
            "Epoch 14/100\n",
            "92/92 [==============================] - 0s 3ms/step - loss: -1340.6627 - accuracy: 0.0000e+00 - val_loss: -1615.3785 - val_accuracy: 0.0000e+00\n",
            "Epoch 15/100\n",
            "92/92 [==============================] - 0s 3ms/step - loss: -1696.6754 - accuracy: 0.0000e+00 - val_loss: -2022.6949 - val_accuracy: 0.0000e+00\n",
            "Epoch 16/100\n",
            "92/92 [==============================] - 0s 3ms/step - loss: -2103.0295 - accuracy: 0.0000e+00 - val_loss: -2488.6396 - val_accuracy: 0.0000e+00\n",
            "Epoch 17/100\n",
            "92/92 [==============================] - 0s 3ms/step - loss: -2560.1250 - accuracy: 0.0000e+00 - val_loss: -3009.8516 - val_accuracy: 0.0000e+00\n",
            "Epoch 18/100\n",
            "92/92 [==============================] - 0s 3ms/step - loss: -3073.2952 - accuracy: 0.0000e+00 - val_loss: -3583.9814 - val_accuracy: 0.0000e+00\n",
            "Epoch 19/100\n",
            "92/92 [==============================] - 0s 3ms/step - loss: -3637.7861 - accuracy: 0.0000e+00 - val_loss: -4229.0825 - val_accuracy: 0.0000e+00\n",
            "Epoch 20/100\n",
            "92/92 [==============================] - 0s 3ms/step - loss: -4258.2690 - accuracy: 0.0000e+00 - val_loss: -4925.5420 - val_accuracy: 0.0000e+00\n",
            "Epoch 21/100\n",
            "92/92 [==============================] - 0s 3ms/step - loss: -4934.3818 - accuracy: 0.0000e+00 - val_loss: -5688.5742 - val_accuracy: 0.0000e+00\n",
            "Epoch 22/100\n",
            "92/92 [==============================] - 0s 3ms/step - loss: -5671.2095 - accuracy: 0.0000e+00 - val_loss: -6510.2407 - val_accuracy: 0.0000e+00\n",
            "Epoch 23/100\n",
            "92/92 [==============================] - 0s 3ms/step - loss: -6462.3457 - accuracy: 0.0000e+00 - val_loss: -7399.0884 - val_accuracy: 0.0000e+00\n",
            "Epoch 24/100\n",
            "92/92 [==============================] - 0s 3ms/step - loss: -7314.3438 - accuracy: 0.0000e+00 - val_loss: -8350.9248 - val_accuracy: 0.0000e+00\n",
            "Epoch 25/100\n",
            "92/92 [==============================] - 0s 3ms/step - loss: -8226.9014 - accuracy: 0.0000e+00 - val_loss: -9364.7480 - val_accuracy: 0.0000e+00\n",
            "Epoch 26/100\n",
            "92/92 [==============================] - 0s 3ms/step - loss: -9198.5908 - accuracy: 0.0000e+00 - val_loss: -10461.2012 - val_accuracy: 0.0000e+00\n",
            "Epoch 27/100\n",
            "92/92 [==============================] - 0s 3ms/step - loss: -10232.3359 - accuracy: 0.0000e+00 - val_loss: -11615.3896 - val_accuracy: 0.0000e+00\n",
            "Epoch 28/100\n",
            "92/92 [==============================] - 0s 3ms/step - loss: -11332.1943 - accuracy: 0.0000e+00 - val_loss: -12838.3457 - val_accuracy: 0.0000e+00\n",
            "Epoch 29/100\n",
            "92/92 [==============================] - 0s 3ms/step - loss: -12493.4873 - accuracy: 0.0000e+00 - val_loss: -14131.0381 - val_accuracy: 0.0000e+00\n",
            "Epoch 30/100\n",
            "92/92 [==============================] - 0s 3ms/step - loss: -13720.5352 - accuracy: 0.0000e+00 - val_loss: -15498.4414 - val_accuracy: 0.0000e+00\n",
            "Epoch 31/100\n",
            "92/92 [==============================] - 0s 3ms/step - loss: -15009.4199 - accuracy: 0.0000e+00 - val_loss: -16942.6777 - val_accuracy: 0.0000e+00\n",
            "Epoch 32/100\n",
            "92/92 [==============================] - 0s 2ms/step - loss: -16365.1328 - accuracy: 0.0000e+00 - val_loss: -18434.3848 - val_accuracy: 0.0000e+00\n",
            "Epoch 33/100\n",
            "92/92 [==============================] - 0s 3ms/step - loss: -17791.1230 - accuracy: 0.0000e+00 - val_loss: -20024.5664 - val_accuracy: 0.0000e+00\n",
            "Epoch 34/100\n",
            "92/92 [==============================] - 0s 3ms/step - loss: -19283.5684 - accuracy: 0.0000e+00 - val_loss: -21686.0215 - val_accuracy: 0.0000e+00\n",
            "Epoch 35/100\n",
            "92/92 [==============================] - 0s 3ms/step - loss: -20840.7715 - accuracy: 0.0000e+00 - val_loss: -23419.7832 - val_accuracy: 0.0000e+00\n",
            "Epoch 36/100\n",
            "92/92 [==============================] - 0s 5ms/step - loss: -22467.5781 - accuracy: 0.0000e+00 - val_loss: -25230.5605 - val_accuracy: 0.0000e+00\n",
            "Epoch 37/100\n",
            "92/92 [==============================] - 0s 4ms/step - loss: -24161.6895 - accuracy: 0.0000e+00 - val_loss: -27117.0430 - val_accuracy: 0.0000e+00\n",
            "Epoch 38/100\n",
            "92/92 [==============================] - 0s 4ms/step - loss: -25926.1602 - accuracy: 0.0000e+00 - val_loss: -29053.3926 - val_accuracy: 0.0000e+00\n",
            "Epoch 39/100\n",
            "92/92 [==============================] - 0s 4ms/step - loss: -27760.5820 - accuracy: 0.0000e+00 - val_loss: -31106.0176 - val_accuracy: 0.0000e+00\n",
            "Epoch 40/100\n",
            "92/92 [==============================] - 0s 4ms/step - loss: -29661.7266 - accuracy: 0.0000e+00 - val_loss: -33220.2227 - val_accuracy: 0.0000e+00\n",
            "Epoch 41/100\n",
            "92/92 [==============================] - 0s 4ms/step - loss: -31636.7754 - accuracy: 0.0000e+00 - val_loss: -35401.7344 - val_accuracy: 0.0000e+00\n",
            "Epoch 42/100\n",
            "92/92 [==============================] - 0s 5ms/step - loss: -33680.6289 - accuracy: 0.0000e+00 - val_loss: -37655.3398 - val_accuracy: 0.0000e+00\n",
            "Epoch 43/100\n",
            "92/92 [==============================] - 0s 4ms/step - loss: -35801.2500 - accuracy: 0.0000e+00 - val_loss: -40019.7305 - val_accuracy: 0.0000e+00\n",
            "Epoch 44/100\n",
            "92/92 [==============================] - 0s 4ms/step - loss: -37995.2969 - accuracy: 0.0000e+00 - val_loss: -42452.0703 - val_accuracy: 0.0000e+00\n",
            "Epoch 45/100\n",
            "92/92 [==============================] - 0s 4ms/step - loss: -40263.6484 - accuracy: 0.0000e+00 - val_loss: -44970.1953 - val_accuracy: 0.0000e+00\n",
            "Epoch 46/100\n",
            "92/92 [==============================] - 0s 4ms/step - loss: -42605.7305 - accuracy: 0.0000e+00 - val_loss: -47552.3984 - val_accuracy: 0.0000e+00\n",
            "Epoch 47/100\n",
            "92/92 [==============================] - 0s 3ms/step - loss: -45026.8438 - accuracy: 0.0000e+00 - val_loss: -50213.9414 - val_accuracy: 0.0000e+00\n",
            "Epoch 48/100\n",
            "92/92 [==============================] - 0s 3ms/step - loss: -47521.2227 - accuracy: 0.0000e+00 - val_loss: -53008.3711 - val_accuracy: 0.0000e+00\n",
            "Epoch 49/100\n",
            "92/92 [==============================] - 0s 3ms/step - loss: -50100.2578 - accuracy: 0.0000e+00 - val_loss: -55867.3672 - val_accuracy: 0.0000e+00\n",
            "Epoch 50/100\n",
            "92/92 [==============================] - 0s 3ms/step - loss: -52756.6562 - accuracy: 0.0000e+00 - val_loss: -58791.6250 - val_accuracy: 0.0000e+00\n",
            "Epoch 51/100\n",
            "92/92 [==============================] - 0s 3ms/step - loss: -55485.4258 - accuracy: 0.0000e+00 - val_loss: -61834.8008 - val_accuracy: 0.0000e+00\n",
            "Epoch 52/100\n",
            "92/92 [==============================] - 0s 3ms/step - loss: -58300.5859 - accuracy: 0.0000e+00 - val_loss: -64926.5859 - val_accuracy: 0.0000e+00\n",
            "Epoch 53/100\n",
            "92/92 [==============================] - 0s 3ms/step - loss: -61189.8320 - accuracy: 0.0000e+00 - val_loss: -68153.1172 - val_accuracy: 0.0000e+00\n",
            "Epoch 54/100\n",
            "92/92 [==============================] - 0s 3ms/step - loss: -64161.3398 - accuracy: 0.0000e+00 - val_loss: -71427.8203 - val_accuracy: 0.0000e+00\n",
            "Epoch 55/100\n",
            "92/92 [==============================] - 0s 3ms/step - loss: -67210.5156 - accuracy: 0.0000e+00 - val_loss: -74792.0547 - val_accuracy: 0.0000e+00\n",
            "Epoch 56/100\n",
            "92/92 [==============================] - 0s 3ms/step - loss: -70340.8516 - accuracy: 0.0000e+00 - val_loss: -78246.5938 - val_accuracy: 0.0000e+00\n",
            "Epoch 57/100\n",
            "92/92 [==============================] - 0s 2ms/step - loss: -73551.7969 - accuracy: 0.0000e+00 - val_loss: -81823.2344 - val_accuracy: 0.0000e+00\n",
            "Epoch 58/100\n",
            "92/92 [==============================] - 0s 3ms/step - loss: -76848.9297 - accuracy: 0.0000e+00 - val_loss: -85443.4219 - val_accuracy: 0.0000e+00\n",
            "Epoch 59/100\n",
            "92/92 [==============================] - 0s 3ms/step - loss: -80229.6562 - accuracy: 0.0000e+00 - val_loss: -89170.6406 - val_accuracy: 0.0000e+00\n",
            "Epoch 60/100\n",
            "92/92 [==============================] - 0s 3ms/step - loss: -83684.5703 - accuracy: 0.0000e+00 - val_loss: -93049.9766 - val_accuracy: 0.0000e+00\n",
            "Epoch 61/100\n",
            "92/92 [==============================] - 0s 3ms/step - loss: -87245.0156 - accuracy: 0.0000e+00 - val_loss: -96940.4922 - val_accuracy: 0.0000e+00\n",
            "Epoch 62/100\n",
            "92/92 [==============================] - 0s 3ms/step - loss: -90869.4453 - accuracy: 0.0000e+00 - val_loss: -100953.4141 - val_accuracy: 0.0000e+00\n",
            "Epoch 63/100\n",
            "92/92 [==============================] - 0s 3ms/step - loss: -94579.2656 - accuracy: 0.0000e+00 - val_loss: -105071.5547 - val_accuracy: 0.0000e+00\n",
            "Epoch 64/100\n",
            "92/92 [==============================] - 0s 3ms/step - loss: -98379.6797 - accuracy: 0.0000e+00 - val_loss: -109266.8359 - val_accuracy: 0.0000e+00\n",
            "Epoch 65/100\n",
            "92/92 [==============================] - 0s 3ms/step - loss: -102273.5000 - accuracy: 0.0000e+00 - val_loss: -113570.0547 - val_accuracy: 0.0000e+00\n",
            "Epoch 66/100\n",
            "92/92 [==============================] - 0s 3ms/step - loss: -106249.1641 - accuracy: 0.0000e+00 - val_loss: -117977.2109 - val_accuracy: 0.0000e+00\n",
            "Epoch 67/100\n",
            "92/92 [==============================] - 0s 3ms/step - loss: -110325.6797 - accuracy: 0.0000e+00 - val_loss: -122457.3438 - val_accuracy: 0.0000e+00\n",
            "Epoch 68/100\n",
            "92/92 [==============================] - 0s 3ms/step - loss: -114481.8281 - accuracy: 0.0000e+00 - val_loss: -127093.1016 - val_accuracy: 0.0000e+00\n",
            "Epoch 69/100\n",
            "92/92 [==============================] - 0s 3ms/step - loss: -118734.5547 - accuracy: 0.0000e+00 - val_loss: -131740.3125 - val_accuracy: 0.0000e+00\n",
            "Epoch 70/100\n",
            "92/92 [==============================] - 0s 3ms/step - loss: -123080.8047 - accuracy: 0.0000e+00 - val_loss: -136599.0156 - val_accuracy: 0.0000e+00\n",
            "Epoch 71/100\n",
            "92/92 [==============================] - 0s 3ms/step - loss: -127499.2578 - accuracy: 0.0000e+00 - val_loss: -141456.9688 - val_accuracy: 0.0000e+00\n",
            "Epoch 72/100\n",
            "92/92 [==============================] - 0s 3ms/step - loss: -132010.9688 - accuracy: 0.0000e+00 - val_loss: -146437.5781 - val_accuracy: 0.0000e+00\n",
            "Epoch 73/100\n",
            "92/92 [==============================] - 0s 3ms/step - loss: -136608.7031 - accuracy: 0.0000e+00 - val_loss: -151471.7969 - val_accuracy: 0.0000e+00\n",
            "Epoch 74/100\n",
            "92/92 [==============================] - 0s 3ms/step - loss: -141291.8281 - accuracy: 0.0000e+00 - val_loss: -156672.4531 - val_accuracy: 0.0000e+00\n",
            "Epoch 75/100\n",
            "92/92 [==============================] - 0s 3ms/step - loss: -146079.0312 - accuracy: 0.0000e+00 - val_loss: -161968.0625 - val_accuracy: 0.0000e+00\n",
            "Epoch 76/100\n",
            "92/92 [==============================] - 0s 3ms/step - loss: -150961.5000 - accuracy: 0.0000e+00 - val_loss: -167346.3594 - val_accuracy: 0.0000e+00\n",
            "Epoch 77/100\n",
            "92/92 [==============================] - 0s 3ms/step - loss: -155941.8750 - accuracy: 0.0000e+00 - val_loss: -172823.7500 - val_accuracy: 0.0000e+00\n",
            "Epoch 78/100\n",
            "92/92 [==============================] - 0s 3ms/step - loss: -161022.7500 - accuracy: 0.0000e+00 - val_loss: -178471.5469 - val_accuracy: 0.0000e+00\n",
            "Epoch 79/100\n",
            "92/92 [==============================] - 0s 3ms/step - loss: -166215.2344 - accuracy: 0.0000e+00 - val_loss: -184161.4375 - val_accuracy: 0.0000e+00\n",
            "Epoch 80/100\n",
            "92/92 [==============================] - 0s 3ms/step - loss: -171499.3281 - accuracy: 0.0000e+00 - val_loss: -190017.1250 - val_accuracy: 0.0000e+00\n",
            "Epoch 81/100\n",
            "92/92 [==============================] - 0s 3ms/step - loss: -176888.5625 - accuracy: 0.0000e+00 - val_loss: -195950.0625 - val_accuracy: 0.0000e+00\n",
            "Epoch 82/100\n",
            "92/92 [==============================] - 0s 4ms/step - loss: -182382.6562 - accuracy: 0.0000e+00 - val_loss: -202045.3750 - val_accuracy: 0.0000e+00\n",
            "Epoch 83/100\n",
            "92/92 [==============================] - 0s 4ms/step - loss: -187982.8281 - accuracy: 0.0000e+00 - val_loss: -208244.7500 - val_accuracy: 0.0000e+00\n",
            "Epoch 84/100\n",
            "92/92 [==============================] - 0s 4ms/step - loss: -193680.6719 - accuracy: 0.0000e+00 - val_loss: -214558.8750 - val_accuracy: 0.0000e+00\n",
            "Epoch 85/100\n",
            "92/92 [==============================] - 0s 4ms/step - loss: -199492.3906 - accuracy: 0.0000e+00 - val_loss: -220902.0312 - val_accuracy: 0.0000e+00\n",
            "Epoch 86/100\n",
            "92/92 [==============================] - 0s 4ms/step - loss: -205394.7500 - accuracy: 0.0000e+00 - val_loss: -227471.3906 - val_accuracy: 0.0000e+00\n",
            "Epoch 87/100\n",
            "92/92 [==============================] - 0s 4ms/step - loss: -211396.7969 - accuracy: 0.0000e+00 - val_loss: -234108.8750 - val_accuracy: 0.0000e+00\n",
            "Epoch 88/100\n",
            "92/92 [==============================] - 0s 4ms/step - loss: -217490.3750 - accuracy: 0.0000e+00 - val_loss: -240828.4688 - val_accuracy: 0.0000e+00\n",
            "Epoch 89/100\n",
            "92/92 [==============================] - 0s 4ms/step - loss: -223689.7188 - accuracy: 0.0000e+00 - val_loss: -247675.8594 - val_accuracy: 0.0000e+00\n",
            "Epoch 90/100\n",
            "92/92 [==============================] - 0s 4ms/step - loss: -229994.5938 - accuracy: 0.0000e+00 - val_loss: -254636.7188 - val_accuracy: 0.0000e+00\n",
            "Epoch 91/100\n",
            "92/92 [==============================] - 0s 5ms/step - loss: -236402.3750 - accuracy: 0.0000e+00 - val_loss: -261707.9688 - val_accuracy: 0.0000e+00\n",
            "Epoch 92/100\n",
            "92/92 [==============================] - 0s 5ms/step - loss: -242920.9844 - accuracy: 0.0000e+00 - val_loss: -268857.5625 - val_accuracy: 0.0000e+00\n",
            "Epoch 93/100\n",
            "92/92 [==============================] - 0s 5ms/step - loss: -249532.7969 - accuracy: 0.0000e+00 - val_loss: -276254.2812 - val_accuracy: 0.0000e+00\n",
            "Epoch 94/100\n",
            "92/92 [==============================] - 0s 3ms/step - loss: -256261.2500 - accuracy: 0.0000e+00 - val_loss: -283645.0625 - val_accuracy: 0.0000e+00\n",
            "Epoch 95/100\n",
            "92/92 [==============================] - 0s 3ms/step - loss: -263093.0000 - accuracy: 0.0000e+00 - val_loss: -291120.3750 - val_accuracy: 0.0000e+00\n",
            "Epoch 96/100\n",
            "92/92 [==============================] - 0s 3ms/step - loss: -270025.4375 - accuracy: 0.0000e+00 - val_loss: -298873.2500 - val_accuracy: 0.0000e+00\n",
            "Epoch 97/100\n",
            "92/92 [==============================] - 0s 3ms/step - loss: -277096.5000 - accuracy: 0.0000e+00 - val_loss: -306668.2500 - val_accuracy: 0.0000e+00\n",
            "Epoch 98/100\n",
            "92/92 [==============================] - 0s 3ms/step - loss: -284262.4375 - accuracy: 0.0000e+00 - val_loss: -314554.2500 - val_accuracy: 0.0000e+00\n",
            "Epoch 99/100\n",
            "92/92 [==============================] - 0s 3ms/step - loss: -291539.7188 - accuracy: 0.0000e+00 - val_loss: -322637.9688 - val_accuracy: 0.0000e+00\n",
            "Epoch 100/100\n",
            "92/92 [==============================] - 0s 3ms/step - loss: -298934.1562 - accuracy: 0.0000e+00 - val_loss: -330758.1250 - val_accuracy: 0.0000e+00\n"
          ]
        }
      ],
      "source": [
        "classifier = Sequential()\n",
        "\n",
        "# Add input and first hidden layer\n",
        "classifier.add(Dense(units=6, activation='relu', input_dim=11))\n",
        "\n",
        "# Add second hidden layer\n",
        "classifier.add(Dense(units=6, activation='relu'))\n",
        "\n",
        "# Add output layer\n",
        "classifier.add(Dense(units=1, activation='sigmoid'))\n",
        "\n",
        "# Compile ANN\n",
        "classifier.compile(optimizer='adam', loss='binary_crossentropy', metrics=['accuracy'])\n",
        "\n",
        "# Train the model\n",
        "history = classifier.fit(X_train, y_train, batch_size=10, epochs=100, validation_data=(X_test, y_test))"
      ]
    },
    {
      "cell_type": "code",
      "execution_count": 48,
      "metadata": {
        "colab": {
          "base_uri": "https://localhost:8080/"
        },
        "id": "MQaJYDsnzYEj",
        "outputId": "c387bb49-2010-46d8-93aa-b2cf329169dc"
      },
      "outputs": [
        {
          "name": "stdout",
          "output_type": "stream",
          "text": [
            "Model: \"sequential_7\"\n",
            "_________________________________________________________________\n",
            " Layer (type)                Output Shape              Param #   \n",
            "=================================================================\n",
            " dense_21 (Dense)            (None, 6)                 72        \n",
            "                                                                 \n",
            " dense_22 (Dense)            (None, 6)                 42        \n",
            "                                                                 \n",
            " dense_23 (Dense)            (None, 1)                 7         \n",
            "                                                                 \n",
            "=================================================================\n",
            "Total params: 121 (484.00 Byte)\n",
            "Trainable params: 121 (484.00 Byte)\n",
            "Non-trainable params: 0 (0.00 Byte)\n",
            "_________________________________________________________________\n"
          ]
        }
      ],
      "source": [
        "classifier.summary()"
      ]
    },
    {
      "cell_type": "markdown",
      "metadata": {
        "id": "nbkDbpC-znR2"
      },
      "source": [
        "Accuracy Curve"
      ]
    },
    {
      "cell_type": "code",
      "execution_count": null,
      "metadata": {
        "colab": {
          "base_uri": "https://localhost:8080/",
          "height": 466
        },
        "id": "zwThTZd8zjzr",
        "outputId": "45dc2dbe-4301-413a-bf97-727807b234fe"
      },
      "outputs": [],
      "source": [
        "history.history.keys()\n",
        "plt.plot(history.history['accuracy'])\n",
        "plt.xlabel('epoch')\n",
        "plt.xlabel('accuracy')\n",
        "plt.show"
      ]
    },
    {
      "cell_type": "code",
      "execution_count": null,
      "metadata": {
        "colab": {
          "base_uri": "https://localhost:8080/",
          "height": 466
        },
        "id": "0ndZBj2Xz2JZ",
        "outputId": "d9acf06e-8403-4b89-f26f-25eeb8d2da5e"
      },
      "outputs": [],
      "source": [
        "history.history.keys()\n",
        "plt.plot(history.history['loss'])\n",
        "plt.xlabel('epoch')\n",
        "plt.xlabel('loss')\n",
        "plt.show"
      ]
    },
    {
      "cell_type": "code",
      "execution_count": null,
      "metadata": {
        "id": "KKXi-BM50NP4"
      },
      "outputs": [],
      "source": [
        "Y_pred = classifier.predict(X_test)\n",
        "Y_pred"
      ]
    },
    {
      "cell_type": "markdown",
      "metadata": {
        "id": "dVIk_4-50SDp"
      },
      "source": [
        "model evaluation\n"
      ]
    },
    {
      "cell_type": "code",
      "execution_count": null,
      "metadata": {
        "colab": {
          "base_uri": "https://localhost:8080/"
        },
        "id": "iWG5sGmm0PL_",
        "outputId": "b37cb7b5-d3c7-4b7a-b200-0c5c473cd803"
      },
      "outputs": [],
      "source": [
        "Y_pred=(Y_pred>0.5)\n",
        "cm=confusion_matrix(y_test,Y_pred)\n",
        "cm"
      ]
    },
    {
      "cell_type": "code",
      "execution_count": 67,
      "metadata": {
        "colab": {
          "base_uri": "https://localhost:8080/"
        },
        "id": "eGFlCfzI0tWZ",
        "outputId": "84c5d522-e9d5-438a-cb2b-02eb18a91d96"
      },
      "outputs": [
        {
          "data": {
            "text/plain": [
              "158     5\n",
              "1081    6\n",
              "291     5\n",
              "538     6\n",
              "367     6\n",
              "       ..\n",
              "66      4\n",
              "328     6\n",
              "67      5\n",
              "231     6\n",
              "966     6\n",
              "Name: quality, Length: 229, dtype: int64"
            ]
          },
          "execution_count": 67,
          "metadata": {},
          "output_type": "execute_result"
        }
      ],
      "source": [
        "y_test"
      ]
    },
    {
      "cell_type": "code",
      "execution_count": null,
      "metadata": {
        "id": "QK3X2Trt01U7"
      },
      "outputs": [],
      "source": [
        "accuracy=accuracy_score(y_test,Y_pred)\n",
        "accuracy"
      ]
    },
    {
      "cell_type": "code",
      "execution_count": null,
      "metadata": {
        "id": "2JMaSgT21Phz"
      },
      "outputs": [],
      "source": [
        "Y_pred"
      ]
    },
    {
      "cell_type": "code",
      "execution_count": 62,
      "metadata": {
        "colab": {
          "base_uri": "https://localhost:8080/"
        },
        "id": "Y-KA1I9g1UqJ",
        "outputId": "72129f48-c8f6-4fda-d760-a1899b4388f6"
      },
      "outputs": [
        {
          "data": {
            "text/plain": [
              "[-330758.09375, 0.0]"
            ]
          },
          "execution_count": 62,
          "metadata": {},
          "output_type": "execute_result"
        }
      ],
      "source": [
        "score = classifier.evaluate(X_test, y_test, verbose = 0) # Evaluate returns the loss value & accuracy values for the model in test mode\n",
        "score"
      ]
    },
    {
      "cell_type": "code",
      "execution_count": null,
      "metadata": {
        "colab": {
          "base_uri": "https://localhost:8080/",
          "height": 507
        },
        "id": "MIJpDsoV1fGc",
        "outputId": "4dbd4961-9a24-4cf8-c6b5-aee0cae921cb"
      },
      "outputs": [],
      "source": [
        "fig, ax = plt.subplots(figsize=(5, 5))\n",
        "ax.matshow(cm, cmap=plt.cm.Oranges, alpha=0.3)\n",
        "for i in range(cm.shape[0]):\n",
        "    for j in range(cm.shape[1]):\n",
        "        ax.text(x=j, y=i,s=cm[i, j], va='center', ha='center', size='xx-large')\n",
        "\n",
        "plt.xlabel('Predictions', fontsize=18)\n",
        "plt.ylabel('Actuals', fontsize=18)\n",
        "plt.title('Confusion Matrix', fontsize=18)\n",
        "plt.show()"
      ]
    },
    {
      "cell_type": "code",
      "execution_count": null,
      "metadata": {
        "id": "LChII8-r540u"
      },
      "outputs": [],
      "source": [
        "precision = precision_score(y_test, Y_pred, average='weighted', zero_division=0)\n",
        "recall = recall_score(y_test, Y_pred, average='weighted', zero_division=0)\n",
        "accuracy = accuracy_score(y_test, Y_pred)\n",
        "f1 = f1_score(y_test, Y_pred, average='weighted', zero_division=0)\n",
        "\n",
        "print(f'Precision: {precision:.3f}')\n",
        "print(f'Recall: {recall:.3f}')\n",
        "print(f'Accuracy: {accuracy:.3f}')\n",
        "print(f'F1 Score: {f1:.3f}')\n"
      ]
    }
  ],
  "metadata": {
    "colab": {
      "provenance": []
    },
    "kernelspec": {
      "display_name": "Python 3",
      "name": "python3"
    },
    "language_info": {
      "name": "python"
    }
  },
  "nbformat": 4,
  "nbformat_minor": 0
}
